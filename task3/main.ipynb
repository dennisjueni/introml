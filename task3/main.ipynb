{
 "cells": [
  {
   "cell_type": "code",
   "execution_count": 1,
   "id": "a7fc3047",
   "metadata": {},
   "outputs": [],
   "source": [
    "import pandas as pd\n",
    "from sklearn.utils import resample\n",
    "from sklearn.neural_network import MLPClassifier\n",
    "from sklearn.preprocessing import OneHotEncoder\n",
    "from sklearn.model_selection import train_test_split\n",
    "from sklearn.metrics import f1_score"
   ]
  },
  {
   "cell_type": "code",
   "execution_count": 2,
   "id": "27cd4bea",
   "metadata": {},
   "outputs": [],
   "source": [
    "ISTEST = False"
   ]
  },
  {
   "cell_type": "code",
   "execution_count": 3,
   "id": "f1db6b68",
   "metadata": {},
   "outputs": [],
   "source": [
    "def format(stri):\n",
    "    df = pd.read_csv(stri)\n",
    "    \n",
    "    majority = df.loc[df.Active == 0].copy()\n",
    "    minority = df.loc[df.Active == 1].copy()\n",
    "    \n",
    "    minority_upsampled = resample(minority, replace=True, n_samples=len(majority),random_state=42)\n",
    "    \n",
    "    df_upsampled = pd.concat([majority, minority_upsampled])\n",
    "    #print(df_upsampled.Active.value_counts())\n",
    "    return df_upsampled"
   ]
  },
  {
   "cell_type": "code",
   "execution_count": 4,
   "id": "b9bf7251",
   "metadata": {},
   "outputs": [],
   "source": [
    "def format2(df):\n",
    "    \n",
    "    new = [char for char in df[\"Sequence\"].str]\n",
    "\n",
    "    newDF = pd.DataFrame()\n",
    "    newDF[\"one\"] = new[0]\n",
    "    newDF[\"two\"] = new[1]\n",
    "    newDF[\"three\"] = new[2]\n",
    "    newDF[\"four\"] = new[3]\n",
    "    return newDF"
   ]
  },
  {
   "cell_type": "code",
   "execution_count": 5,
   "id": "2d1a9c6e",
   "metadata": {},
   "outputs": [
    {
     "name": "stderr",
     "output_type": "stream",
     "text": [
      "<ipython-input-4-7da3ac5eed29>:3: FutureWarning: Columnar iteration over characters will be deprecated in future releases.\n",
      "  new = [char for char in df[\"Sequence\"].str]\n"
     ]
    },
    {
     "name": "stdout",
     "output_type": "stream",
     "text": [
      "0    107787\n",
      "1    107787\n",
      "Name: Active, dtype: int64\n"
     ]
    },
    {
     "name": "stderr",
     "output_type": "stream",
     "text": [
      "<ipython-input-4-7da3ac5eed29>:3: FutureWarning: Columnar iteration over characters will be deprecated in future releases.\n",
      "  new = [char for char in df[\"Sequence\"].str]\n"
     ]
    }
   ],
   "source": [
    "X_train = format2(pd.read_csv('train.csv'))\n",
    "y_train = pd.read_csv('train.csv')['Active']\n",
    "\n",
    "if ISTEST:\n",
    "    X_train_80, X_test_20, y_train_80, y_test_20 = train_test_split(X_train, y_train, train_size=0.8, random_state=42)\n",
    "    \n",
    "    X_train_80 = X_train_80.copy()\n",
    "    y_train_80 = y_train_80.copy()\n",
    "    X_test_20 = X_test_20.copy()\n",
    "    y_test_20 = y_test_20.copy()\n",
    "\n",
    "df = format('train.csv')\n",
    "X_train = format2(df)\n",
    "y_train = df[\"Active\"]\n",
    "X_test = format2(pd.read_csv(\"test.csv\"))"
   ]
  },
  {
   "cell_type": "code",
   "execution_count": 6,
   "id": "f6024d5d",
   "metadata": {},
   "outputs": [
    {
     "name": "stdout",
     "output_type": "stream",
     "text": [
      "(215574, 80)\n"
     ]
    }
   ],
   "source": [
    "encoder = OneHotEncoder(sparse=False)\n",
    "X_train = encoder.fit_transform(X_train)\n",
    "X_test = encoder.transform(X_test)\n",
    "\n",
    "#print(X_train.shape)\n",
    "if ISTEST:\n",
    "    X_test_20 = encoder.transform(X_test_20)\n",
    "    X_train_80 = encoder.transform(X_train_80)"
   ]
  },
  {
   "cell_type": "code",
   "execution_count": 7,
   "id": "e757fa6a",
   "metadata": {},
   "outputs": [],
   "source": [
    "if ISTEST:\n",
    "    model = MLPClassifier(solver='adam', early_stopping=True, random_state=2).fit(X_train_80, y_train_80)\n",
    "else:\n",
    "    model = MLPClassifier(solver='adam', early_stopping=True, random_state=2).fit(X_train, y_train)"
   ]
  },
  {
   "cell_type": "code",
   "execution_count": 8,
   "id": "7d9843f9",
   "metadata": {},
   "outputs": [],
   "source": [
    "if ISTEST:\n",
    "    y_20_predicted = (model.predict_proba(X_test_20)[:,1] >= 0.49).astype(int)\n",
    "    print(f1_score(y_test_20, y_20_predicted))"
   ]
  },
  {
   "cell_type": "code",
   "execution_count": 9,
   "id": "91910f4e",
   "metadata": {},
   "outputs": [],
   "source": [
    "sol = (model.predict(X_test))\n",
    "\n",
    "pd.DataFrame(sol, columns=['sol']).to_csv('result.csv', index=False, header=False)"
   ]
  },
  {
   "cell_type": "code",
   "execution_count": null,
   "id": "d7cd9f92",
   "metadata": {},
   "outputs": [],
   "source": []
  }
 ],
 "metadata": {
  "kernelspec": {
   "display_name": "Python 3",
   "language": "python",
   "name": "python3"
  },
  "language_info": {
   "codemirror_mode": {
    "name": "ipython",
    "version": 3
   },
   "file_extension": ".py",
   "mimetype": "text/x-python",
   "name": "python",
   "nbconvert_exporter": "python",
   "pygments_lexer": "ipython3",
   "version": "3.8.2"
  }
 },
 "nbformat": 4,
 "nbformat_minor": 5
}
