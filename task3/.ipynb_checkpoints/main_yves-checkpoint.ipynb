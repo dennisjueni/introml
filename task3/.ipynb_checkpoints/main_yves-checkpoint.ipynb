{
 "cells": [
  {
   "cell_type": "code",
   "execution_count": 41,
   "id": "af84a3c5",
   "metadata": {},
   "outputs": [],
   "source": [
    "import numpy as np\n",
    "import pandas as pd\n",
    "from sklearn.utils import resample\n",
    "from sklearn.neural_network import MLPClassifier\n",
    "from sklearn.preprocessing import StandardScaler\n",
    "from sklearn.multioutput import MultiOutputRegressor\n",
    "from sklearn.ensemble import GradientBoostingClassifier\n",
    "from sklearn.ensemble import RandomForestClassifier\n",
    "from sklearn.tree import DecisionTreeClassifier\n",
    "from sklearn.neighbors import KNeighborsClassifier\n",
    "from sklearn.svm import SVC\n",
    "from sklearn.ensemble import AdaBoostClassifier\n",
    "from sklearn.gaussian_process import GaussianProcessClassifier\n",
    "from sklearn.naive_bayes import GaussianNB\n",
    "from sklearn.model_selection import train_test_split\n",
    "from sklearn.metrics import f1_score\n",
    "from keras.models import Sequential\n",
    "from keras.layers import Dense\n",
    "from keras.layers import Dropout\n",
    "from keras.callbacks import EarlyStopping\n",
    "from sklearn.model_selection import RandomizedSearchCV\n",
    "from keras import backend as K\n",
    "\n",
    "def r2(y_true, y_pred):\n",
    "    SS_res =  K.sum(K.square( y_true-y_pred )) \n",
    "    SS_tot = K.sum(K.square( y_true - K.mean(y_true) ) ) \n",
    "    return ( 1 - SS_res/(SS_tot + K.epsilon()) )"
   ]
  },
  {
   "cell_type": "code",
   "execution_count": 42,
   "id": "2e364f1a",
   "metadata": {},
   "outputs": [],
   "source": [
    "ISTEST = False"
   ]
  },
  {
   "cell_type": "code",
   "execution_count": 43,
   "id": "d76ac100",
   "metadata": {},
   "outputs": [],
   "source": [
    "def format(stri):\n",
    "    df = pd.read_csv(stri)\n",
    "    \n",
    "    majority = df.loc[df.Active == 0].copy()\n",
    "    minority = df.loc[df.Active == 1].copy()\n",
    "    \n",
    "    minority_upsampled = resample(minority, replace=True, n_samples=len(majority),random_state=42)\n",
    "    \n",
    "    df_upsampled = pd.concat([majority, minority_upsampled])\n",
    "    print(df_upsampled.Active.value_counts())\n",
    "    return df_upsampled"
   ]
  },
  {
   "cell_type": "code",
   "execution_count": 44,
   "id": "89778bb3",
   "metadata": {},
   "outputs": [],
   "source": [
    "def format2(df):\n",
    "    \n",
    "    new = [char for char in df[\"Sequence\"].str]\n",
    "\n",
    "    newDF = pd.DataFrame()\n",
    "    newDF[\"one\"] = new[0]\n",
    "    newDF[\"two\"] = new[1]\n",
    "    newDF[\"three\"] = new[2]\n",
    "    newDF[\"four\"] = new[3]\n",
    "    return newDF"
   ]
  },
  {
   "cell_type": "code",
   "execution_count": 45,
   "id": "ca4a98e8",
   "metadata": {},
   "outputs": [
    {
     "name": "stderr",
     "output_type": "stream",
     "text": [
      "<ipython-input-44-7da3ac5eed29>:3: FutureWarning: Columnar iteration over characters will be deprecated in future releases.\n",
      "  new = [char for char in df[\"Sequence\"].str]\n"
     ]
    },
    {
     "name": "stdout",
     "output_type": "stream",
     "text": [
      "  one two three four\n",
      "0   D   K     W    L\n",
      "1   F   C     H    N\n",
      "2   K   D     Q    P\n",
      "3   F   N     W    I\n",
      "4   N   K     R    M\n",
      "1    107787\n",
      "0    107787\n",
      "Name: Active, dtype: int64\n"
     ]
    },
    {
     "name": "stderr",
     "output_type": "stream",
     "text": [
      "<ipython-input-44-7da3ac5eed29>:3: FutureWarning: Columnar iteration over characters will be deprecated in future releases.\n",
      "  new = [char for char in df[\"Sequence\"].str]\n"
     ]
    }
   ],
   "source": [
    "X_train = format2(pd.read_csv('train.csv'))\n",
    "y_train = pd.read_csv('train.csv')['Active']\n",
    "\n",
    "print(X_train.head())\n",
    "\n",
    "if ISTEST:\n",
    "    X_train_80, X_test_20, y_train_80, y_test_20 = train_test_split(X_train, y_train, train_size=0.8, random_state=42)\n",
    "    \n",
    "    X_train_80 = X_train_80.copy()\n",
    "    y_train_80 = y_train_80.copy()\n",
    "    X_test_20 = X_test_20.copy()\n",
    "    y_test_20 = y_test_20.copy()\n",
    "\n",
    "df = format('train.csv')\n",
    "X_train = format2(df)\n",
    "y_train = df[\"Active\"]\n",
    "X_test = format2(pd.read_csv(\"test.csv\"))"
   ]
  },
  {
   "cell_type": "code",
   "execution_count": 46,
   "id": "11bcce13",
   "metadata": {},
   "outputs": [
    {
     "name": "stdout",
     "output_type": "stream",
     "text": [
      "[[0. 0. 0. 0. 0. 0. 1. 0. 0. 0. 0. 0. 0. 0. 0. 0. 0. 0. 0. 0. 0. 0. 0. 0.\n",
      "  0. 0. 0. 0. 0. 0. 0. 0. 0. 0. 0. 0. 0. 0. 1. 0. 0. 0. 0. 0. 1. 0. 0. 0.\n",
      "  0. 0. 0. 0. 0. 0. 0. 0. 0. 0. 0. 0. 0. 0. 0. 0. 0. 0. 0. 0. 1. 0. 0. 0.\n",
      "  0. 0. 0. 0. 0. 0. 0. 0.]\n",
      " [0. 0. 0. 0. 0. 0. 0. 0. 0. 0. 1. 0. 0. 0. 0. 0. 0. 0. 0. 0. 0. 0. 0. 0.\n",
      "  0. 0. 0. 0. 0. 0. 0. 0. 0. 0. 0. 0. 0. 0. 1. 0. 0. 0. 0. 0. 0. 0. 0. 0.\n",
      "  0. 0. 0. 0. 1. 0. 0. 0. 0. 0. 0. 0. 0. 0. 0. 0. 0. 0. 0. 0. 0. 0. 0. 0.\n",
      "  0. 0. 0. 0. 0. 0. 1. 0.]\n",
      " [1. 0. 0. 0. 0. 0. 0. 0. 0. 0. 0. 0. 0. 0. 0. 0. 0. 0. 0. 0. 0. 0. 0. 0.\n",
      "  0. 0. 0. 0. 0. 1. 0. 0. 0. 0. 0. 0. 0. 0. 0. 0. 0. 0. 1. 0. 0. 0. 0. 0.\n",
      "  0. 0. 0. 0. 0. 0. 0. 0. 0. 0. 0. 0. 0. 0. 0. 0. 0. 0. 0. 0. 0. 0. 0. 0.\n",
      "  0. 0. 0. 0. 0. 1. 0. 0.]\n",
      " [0. 0. 0. 0. 0. 0. 0. 0. 0. 0. 0. 1. 0. 0. 0. 0. 0. 0. 0. 0. 0. 0. 0. 0.\n",
      "  0. 0. 0. 0. 0. 0. 0. 0. 0. 0. 0. 0. 1. 0. 0. 0. 0. 0. 0. 0. 0. 0. 0. 0.\n",
      "  0. 1. 0. 0. 0. 0. 0. 0. 0. 0. 0. 0. 0. 0. 0. 0. 0. 1. 0. 0. 0. 0. 0. 0.\n",
      "  0. 0. 0. 0. 0. 0. 0. 0.]\n",
      " [0. 0. 0. 0. 0. 0. 0. 0. 0. 1. 0. 0. 0. 0. 0. 0. 0. 0. 0. 0. 0. 0. 0. 0.\n",
      "  0. 0. 1. 0. 0. 0. 0. 0. 0. 0. 0. 0. 0. 0. 0. 0. 0. 0. 0. 0. 0. 0. 0. 0.\n",
      "  0. 0. 0. 0. 0. 0. 0. 0. 0. 0. 0. 1. 0. 0. 0. 0. 0. 0. 0. 0. 0. 0. 0. 0.\n",
      "  0. 0. 0. 0. 0. 0. 0. 1.]]\n",
      "(215574, 80)\n"
     ]
    }
   ],
   "source": [
    "from sklearn.preprocessing import OneHotEncoder\n",
    "encoder = OneHotEncoder(sparse=False)\n",
    "X_train = encoder.fit_transform(X_train)\n",
    "X_test = encoder.transform(X_test)\n",
    "\n",
    "\n",
    "\n",
    "print(X_test[:5])\n",
    "print(X_train.shape)\n",
    "\n",
    "if ISTEST:\n",
    "    X_test_20 = encoder.transform(X_test_20)\n",
    "    X_train_80 = encoder.transform(X_train_80)\n",
    "    X_train_80 = sc.transform(X_train_80)\n",
    "    X_test_20 = sc.transform(X_test_20)"
   ]
  },
  {
   "cell_type": "code",
   "execution_count": 47,
   "id": "96495404",
   "metadata": {},
   "outputs": [],
   "source": [
    "if ISTEST:\n",
    "    model = MLPClassifier(solver = 'adam' , random_state=2).fit(X_train_80, y_train_80)\n",
    "    #model = RandomForestClassifier(n_estimators=500, min_samples_split=4, min_samples_leaf=1, max_features='auto',\n",
    "    #                               max_depth=60, bootstrap=False, class_weight='balanced', random_state=42).fit(X_train_80, y_train_80)\n",
    "else:\n",
    "    model = MLPClassifier(solver = 'adam', early_stopping = True,  random_state=2).fit(X_train, y_train)\n",
    "    #model = RandomForestClassifier(n_estimators=500, min_samples_split=4, min_samples_leaf=1, max_features='auto',\n",
    "    #                               max_depth=60, bootstrap=False, class_weight='balanced', random_state=42).fit(X_train, y_train)"
   ]
  },
  {
   "cell_type": "code",
   "execution_count": null,
   "id": "ffd3d1a0",
   "metadata": {},
   "outputs": [],
   "source": []
  },
  {
   "cell_type": "code",
   "execution_count": 48,
   "id": "9b351b4e",
   "metadata": {},
   "outputs": [],
   "source": [
    "if ISTEST:\n",
    "    y_20_predicted1 = model.predict(X_test_20)\n",
    "    print(y_20_predicted1)\n",
    "    print(f1_score(y_test_20, y_20_predicted1))"
   ]
  },
  {
   "cell_type": "code",
   "execution_count": 49,
   "id": "a59609f7",
   "metadata": {},
   "outputs": [],
   "source": [
    "sol = (model.predict(X_test))\n",
    "\n",
    "pd.DataFrame(sol, columns=['sol']).to_csv('result.csv', index=False, header=False)"
   ]
  },
  {
   "cell_type": "code",
   "execution_count": null,
   "id": "8e2d06f9",
   "metadata": {},
   "outputs": [],
   "source": []
  },
  {
   "cell_type": "code",
   "execution_count": null,
   "id": "820b6513",
   "metadata": {},
   "outputs": [],
   "source": []
  }
 ],
 "metadata": {
  "kernelspec": {
   "display_name": "Python 3",
   "language": "python",
   "name": "python3"
  },
  "language_info": {
   "codemirror_mode": {
    "name": "ipython",
    "version": 3
   },
   "file_extension": ".py",
   "mimetype": "text/x-python",
   "name": "python",
   "nbconvert_exporter": "python",
   "pygments_lexer": "ipython3",
   "version": "3.8.2"
  }
 },
 "nbformat": 4,
 "nbformat_minor": 5
}
